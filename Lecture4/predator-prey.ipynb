{
 "cells": [
  {
   "cell_type": "code",
   "execution_count": 1,
   "metadata": {
    "collapsed": true
   },
   "outputs": [],
   "source": [
    "from sympy import *\n",
    "init_printing(use_unicode=True)"
   ]
  },
  {
   "cell_type": "code",
   "execution_count": 15,
   "metadata": {
    "collapsed": false
   },
   "outputs": [
    {
     "data": {
      "text/latex": [
       "$$\\left[\\begin{matrix}-1 & -1 & -1\\\\0 & y_{1} \\left(- a + 1\\right) & 0\\\\0 & 0 & y_{2} \\left(- b + 1\\right)\\end{matrix}\\right]$$"
      ],
      "text/plain": [
       "⎡-1      -1           -1     ⎤\n",
       "⎢                            ⎥\n",
       "⎢0   y₁⋅(-a + 1)       0     ⎥\n",
       "⎢                            ⎥\n",
       "⎣0        0       y₂⋅(-b + 1)⎦"
      ]
     },
     "execution_count": 15,
     "metadata": {},
     "output_type": "execute_result"
    }
   ],
   "source": [
    "M = Matrix([[-1, -1, -1], [0, y1*(1-a), 0], [0, 0, y2*(1-b)]])\n",
    "M"
   ]
  },
  {
   "cell_type": "code",
   "execution_count": 16,
   "metadata": {
    "collapsed": false
   },
   "outputs": [
    {
     "data": {
      "image/png": "[encoded data removed]",
      "text/latex": [
       "$$\\left \\{ -1 : 1, \\quad - a y_{1} + y_{1} : 1, \\quad - b y_{2} + y_{2} : 1\\right \\}$$"
      ],
      "text/plain": [
       "{-1: 1, -a⋅y₁ + y₁: 1, -b⋅y₂ + y₂: 1}"
      ]
     },
     "execution_count": 16,
     "metadata": {},
     "output_type": "execute_result"
    }
   ],
   "source": [
    "M.eigenvals()"
   ]
  },
  {
   "cell_type": "code",
   "execution_count": 4,
   "metadata": {
    "collapsed": true
   },
   "outputs": [],
   "source": [
    "from scipy.integrate import odeint\n",
    "import numpy as np\n",
    "\n",
    "def der(y, t, a, b, y1, y2):\n",
    "    return [y[0]*(1-y[1]-y[2]-y[0]), -y1*y[1]*(a-y[0]),  -y2*y[2]*(b-y[0])]"
   ]
  },
  {
   "cell_type": "code",
   "execution_count": 5,
   "metadata": {
    "collapsed": false
   },
   "outputs": [
    {
     "data": {
      "text/plain": [
       "array([[  3.40000000e-01,   3.30000000e-01,   3.30000000e-01],\n",
       "       [  4.44127751e-01,   1.03135569e-04,   1.03135569e-04],\n",
       "       [  5.68454656e-01,   5.89757624e-08,   5.89757624e-08],\n",
       "       [  6.84720046e-01,  -1.33541381e-11,  -1.33541381e-11],\n",
       "       [  7.81691163e-01,   1.27814299e-09,   1.27814299e-09],\n",
       "       [  8.55146381e-01,   4.84506938e-09,   4.84506938e-09],\n",
       "       [  9.06831668e-01,   7.93859982e-10,   7.93859982e-10],\n",
       "       [  9.41340085e-01,  -4.41584890e-12,  -4.41584890e-12],\n",
       "       [  9.63580374e-01,   2.09150166e-11,   2.09150166e-11],\n",
       "       [  9.77589286e-01,  -1.22346115e-09,  -1.22346115e-09],\n",
       "       [  9.86286316e-01,  -2.36827156e-09,  -2.36827156e-09],\n",
       "       [  9.91637126e-01,   2.09456174e-10,   2.09456174e-10],\n",
       "       [  9.94910914e-01,   2.53893429e-11,   2.53893429e-11],\n",
       "       [  9.96907081e-01,   8.39826792e-12,   8.39826792e-12],\n",
       "       [  9.98121784e-01,  -2.55926348e-11,  -2.55926348e-11],\n",
       "       [  9.98859975e-01,  -3.52033858e-09,  -3.52033858e-09],\n",
       "       [  9.99308200e-01,  -1.89194758e-09,  -1.89194758e-09],\n",
       "       [  9.99580289e-01,  -1.04626724e-10,  -1.04626724e-10],\n",
       "       [  9.99745398e-01,  -3.30565320e-10,  -3.30565320e-10],\n",
       "       [  9.99845581e-01,   5.41523215e-11,   5.41523215e-11],\n",
       "       [  9.99906340e-01,  -2.87876018e-11,  -2.87876018e-11],\n",
       "       [  9.99943180e-01,  -9.39104634e-12,  -9.39104634e-12],\n",
       "       [  9.99965536e-01,   8.63798321e-12,   8.63798321e-12],\n",
       "       [  9.99979087e-01,   7.81985544e-12,   7.81985544e-12],\n",
       "       [  9.99987308e-01,  -5.29725030e-12,  -5.29725030e-12],\n",
       "       [  9.99992300e-01,   3.37627700e-12,   3.37627700e-12],\n",
       "       [  9.99995322e-01,  -5.63230641e-12,  -5.63230641e-12],\n",
       "       [  9.99997148e-01,  -6.05325211e-12,  -6.05325211e-12],\n",
       "       [  9.99998260e-01,   1.65060127e-12,   1.65060127e-12],\n",
       "       [  9.99998942e-01,   1.24210091e-12,   1.24210091e-12],\n",
       "       [  9.99999357e-01,  -1.11284789e-12,  -1.11284789e-12],\n",
       "       [  9.99999607e-01,   1.65122979e-13,   1.65122979e-13],\n",
       "       [  9.99999755e-01,   1.73966481e-12,   1.73966481e-12],\n",
       "       [  9.99999843e-01,   1.30066663e-12,   1.30066663e-12],\n",
       "       [  9.99999901e-01,  -7.42223965e-13,  -7.42223965e-13],\n",
       "       [  9.99999939e-01,  -5.13175670e-13,  -5.13175670e-13],\n",
       "       [  9.99999964e-01,   1.16405584e-13,   1.16405584e-13],\n",
       "       [  9.99999978e-01,   3.62137580e-13,   3.62137580e-13],\n",
       "       [  9.99999986e-01,  -4.08613815e-14,  -4.08613815e-14],\n",
       "       [  9.99999988e-01,  -8.61274616e-13,  -8.61274616e-13],\n",
       "       [  9.99999990e-01,  -7.94601576e-13,  -7.94601576e-13],\n",
       "       [  9.99999991e-01,  -3.77325726e-13,  -3.77325726e-13],\n",
       "       [  9.99999993e-01,  -2.07903558e-14,  -2.07903558e-14],\n",
       "       [  9.99999996e-01,   3.56963632e-13,   3.56963632e-13],\n",
       "       [  9.99999998e-01,   1.18948641e-13,   1.18948641e-13],\n",
       "       [  1.00000000e+00,  -7.90766318e-14,  -7.90766318e-14],\n",
       "       [  1.00000000e+00,  -1.08368735e-13,  -1.08368735e-13],\n",
       "       [  1.00000000e+00,  -1.21388731e-13,  -1.21388731e-13],\n",
       "       [  9.99999999e-01,   2.70169715e-14,   2.70169715e-14],\n",
       "       [  9.99999999e-01,   7.73069687e-14,   7.73069687e-14],\n",
       "       [  9.99999997e-01,   8.03228472e-13,   8.03228472e-13],\n",
       "       [  9.99999995e-01,   1.77861672e-12,   1.77861672e-12],\n",
       "       [  9.99999994e-01,   2.17324653e-12,   2.17324653e-12],\n",
       "       [  9.99999994e-01,   1.07191891e-12,   1.07191891e-12],\n",
       "       [  9.99999994e-01,   9.46626734e-13,   9.46626734e-13],\n",
       "       [  9.99999993e-01,   1.32147448e-12,   1.32147448e-12],\n",
       "       [  9.99999994e-01,   1.31438684e-12,   1.31438684e-12],\n",
       "       [  9.99999995e-01,   5.72070187e-13,   5.72070187e-13],\n",
       "       [  9.99999996e-01,   1.93455010e-13,   1.93455010e-13],\n",
       "       [  9.99999997e-01,   7.27628563e-14,   7.27628563e-14],\n",
       "       [  9.99999998e-01,  -9.98087071e-15,  -9.98087071e-15],\n",
       "       [  9.99999999e-01,  -2.12764573e-14,  -2.12764573e-14],\n",
       "       [  1.00000000e+00,  -4.14765425e-14,  -4.14765425e-14],\n",
       "       [  1.00000000e+00,  -5.74083200e-14,  -5.74083200e-14],\n",
       "       [  1.00000000e+00,  -4.93667941e-14,  -4.93667941e-14],\n",
       "       [  1.00000000e+00,  -1.79400971e-14,  -1.79400971e-14],\n",
       "       [  1.00000000e+00,   1.53010685e-14,   1.53010685e-14],\n",
       "       [  1.00000000e+00,   3.96445036e-14,   3.96445036e-14],\n",
       "       [  1.00000000e+00,   4.71025724e-14,   4.71025724e-14],\n",
       "       [  1.00000000e+00,   2.15891557e-14,   2.15891557e-14],\n",
       "       [  9.99999999e-01,   1.44549062e-13,   1.44549062e-13],\n",
       "       [  9.99999997e-01,   3.21853697e-13,   3.21853697e-13],\n",
       "       [  9.99999995e-01,   5.05967529e-13,   5.05967529e-13],\n",
       "       [  9.99999993e-01,   6.86889904e-13,   6.86889904e-13],\n",
       "       [  9.99999990e-01,   8.52736794e-13,   8.52736794e-13],\n",
       "       [  9.99999988e-01,   9.89517130e-13,   9.89517130e-13],\n",
       "       [  9.99999986e-01,   1.08090912e-12,   1.08090912e-12],\n",
       "       [  9.99999984e-01,   1.10803660e-12,   1.10803660e-12],\n",
       "       [  9.99999983e-01,   1.04924532e-12,   1.04924532e-12],\n",
       "       [  9.99999984e-01,   8.79879313e-13,   8.79879313e-13],\n",
       "       [  9.99999986e-01,   5.72057211e-13,   5.72057211e-13],\n",
       "       [  9.99999990e-01,   9.87734203e-14,   9.87734203e-14],\n",
       "       [  9.99999994e-01,  -2.00396833e-13,  -2.00396833e-13],\n",
       "       [  9.99999997e-01,  -3.88174739e-14,  -3.88174739e-14],\n",
       "       [  9.99999999e-01,   7.84009990e-14,   7.84009990e-14],\n",
       "       [  9.99999999e-01,   8.64235269e-14,   8.64235269e-14],\n",
       "       [  9.99999999e-01,   1.63715851e-14,   1.63715851e-14],\n",
       "       [  9.99999999e-01,  -7.22655953e-14,  -7.22655953e-14],\n",
       "       [  9.99999999e-01,  -3.47628221e-14,  -3.47628221e-14],\n",
       "       [  1.00000000e+00,  -6.33295929e-15,  -6.33295929e-15],\n",
       "       [  1.00000000e+00,   3.47867841e-14,   3.47867841e-14],\n",
       "       [  1.00000000e+00,   5.71614777e-14,   5.71614777e-14],\n",
       "       [  1.00000000e+00,   2.57401577e-13,   2.57401577e-13],\n",
       "       [  1.00000000e+00,   3.61507738e-13,   3.61507738e-13],\n",
       "       [  1.00000000e+00,   1.37780469e-13,   1.37780469e-13],\n",
       "       [  1.00000000e+00,   1.65236374e-13,   1.65236374e-13],\n",
       "       [  1.00000000e+00,   1.89427751e-13,   1.89427751e-13],\n",
       "       [  1.00000000e+00,   1.09780949e-13,   1.09780949e-13],\n",
       "       [  1.00000000e+00,   2.45422961e-14,   2.45422961e-14],\n",
       "       [  1.00000000e+00,  -1.59812345e-15,  -1.59812345e-15],\n",
       "       [  1.00000000e+00,  -1.17412976e-14,  -1.17412976e-14]])"
      ]
     },
     "execution_count": 5,
     "metadata": {},
     "output_type": "execute_result"
    }
   ],
   "source": [
    "y1=10\n",
    "y2=10\n",
    "a=2\n",
    "b=2\n",
    "t = np.linspace(0, 50, 101)\n",
    "y0=[0.34, 0.33, 0.33]\n",
    "sol = odeint(der, y0, t, args=(a, b, y1, y2))\n",
    "x1=sol[:,0]\n",
    "x2=sol[:,1]\n",
    "x3=sol[:,2]\n",
    "sol"
   ]
  },
  {
   "cell_type": "code",
   "execution_count": 6,
   "metadata": {
    "collapsed": false
   },
   "outputs": [
    {
     "name": "stdout",
     "output_type": "stream",
     "text": [
      "Populating the interactive namespace from numpy and matplotlib\n"
     ]
    },
    {
     "name": "stderr",
     "output_type": "stream",
     "text": [
      "C:\\Users\\eXpeRt\\Anaconda3\\lib\\site-packages\\IPython\\core\\magics\\pylab.py:161: UserWarning: pylab import has clobbered these variables: ['diff', 'floor', 'interactive', 'beta', 'test', 'plot', 'plotting', 'zeros', 'cosh', 'Polygon', 'ones', 'trace', 'eye', 'sin', 'vectorize', 'product', 'reshape', 'invert', 'binomial', 'det', 'sign', 'exp', 'tan', 'take', 'diag', 'flatten', 'mod', 'roots', 'cbrt', 'seterr', 'deprecated', 'poly', 'sinc', 'cos', 'trunc', 'nan', 'gamma', 'pi', 'var', 'solve', 'sinh', 'prod', 'source', 'Circle', 'add', 'power', 'transpose', 'tanh', 'conjugate', 'log', 'multinomial', 'sqrt']\n",
      "`%matplotlib` prevents importing * from pylab and numpy\n",
      "  \"\\n`%matplotlib` prevents importing * from pylab and numpy\"\n"
     ]
    },
    {
     "data": {
      "text/plain": [
       "<matplotlib.text.Text at 0x965aac8>"
      ]
     },
     "execution_count": 6,
     "metadata": {},
     "output_type": "execute_result"
    },
    {
     "data": {
      "image/png": "[encoded data removed]",
      "text/plain": [
       "<matplotlib.figure.Figure at 0x8a5c3c8>"
      ]
     },
     "metadata": {},
     "output_type": "display_data"
    }
   ],
   "source": [
    "import matplotlib.pyplot as plt\n",
    "%pylab inline\n",
    "plt.plot(x1, x2)\n",
    "plt.xlabel('x1')\n",
    "plt.ylabel('x2')"
   ]
  },
  {
   "cell_type": "code",
   "execution_count": 7,
   "metadata": {
    "collapsed": false
   },
   "outputs": [
    {
     "data": {
      "text/plain": [
       "<matplotlib.text.Text at 0x95cda90>"
      ]
     },
     "execution_count": 7,
     "metadata": {},
     "output_type": "execute_result"
    },
    {
     "data": {
      "image/png": "[encoded data removed]",
      "text/plain": [
       "<matplotlib.figure.Figure at 0x9972e80>"
      ]
     },
     "metadata": {},
     "output_type": "display_data"
    }
   ],
   "source": [
    "plt.plot(x1, x3)\n",
    "plt.xlabel('x1')\n",
    "plt.ylabel('x3')"
   ]
  },
  {
   "cell_type": "code",
   "execution_count": 8,
   "metadata": {
    "collapsed": false
   },
   "outputs": [
    {
     "data": {
      "text/plain": [
       "<matplotlib.text.Text at 0x98e4d30>"
      ]
     },
     "execution_count": 8,
     "metadata": {},
     "output_type": "execute_result"
    },
    {
     "data": {
      "image/png": "[encoded data removed]",
      "text/plain": [
       "<matplotlib.figure.Figure at 0x990b630>"
      ]
     },
     "metadata": {},
     "output_type": "display_data"
    }
   ],
   "source": [
    "plt.plot(x3, x2)\n",
    "plt.xlabel('x3')\n",
    "plt.ylabel('x2')"
   ]
  },
  {
   "cell_type": "code",
   "execution_count": 11,
   "metadata": {
    "collapsed": false
   },
   "outputs": [
    {
     "data": {
      "text/plain": [
       "[<matplotlib.lines.Line2D at 0x9d5ad68>]"
      ]
     },
     "execution_count": 11,
     "metadata": {},
     "output_type": "execute_result"
    },
    {
     "data": {
      "image/png": "[encoded data removed]",
      "text/plain": [
       "<matplotlib.figure.Figure at 0x9d01160>"
      ]
     },
     "metadata": {},
     "output_type": "display_data"
    }
   ],
   "source": [
    "plt.plot(x1)\n",
    "plt.plot(x2)\n",
    "plt.plot(x3)\n"
   ]
  },
  {
   "cell_type": "code",
   "execution_count": null,
   "metadata": {
    "collapsed": true
   },
   "outputs": [],
   "source": []
  }
 ],
 "metadata": {
  "kernelspec": {
   "display_name": "Python 3",
   "language": "python",
   "name": "python3"
  },
  "language_info": {
   "codemirror_mode": {
    "name": "ipython",
    "version": 3
   },
   "file_extension": ".py",
   "mimetype": "text/x-python",
   "name": "python",
   "nbconvert_exporter": "python",
   "pygments_lexer": "ipython3",
   "version": "3.6.0"
  }
 },
 "nbformat": 4,
 "nbformat_minor": 0
}
