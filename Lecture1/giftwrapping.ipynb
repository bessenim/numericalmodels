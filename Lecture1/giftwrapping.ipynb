{
 "cells": [
  {
   "cell_type": "code",
   "execution_count": 17,
   "metadata": {
    "collapsed": false
   },
   "outputs": [
    {
     "name": "stdout",
     "output_type": "stream",
     "text": [
      "Populating the interactive namespace from numpy and matplotlib\n"
     ]
    }
   ],
   "source": [
    "import numpy as np\n",
    "import matplotlib.pyplot as plt \n",
    "%pylab inline\n"
   ]
  },
  {
   "cell_type": "code",
   "execution_count": 15,
   "metadata": {
    "collapsed": false
   },
   "outputs": [
    {
     "data": {
      "text/plain": [
       "(array([-0.56929885,  0.22942567,  1.95136863, -1.31555673,  1.4261685 ,\n",
       "         1.08423343,  1.30927664, -0.62211949,  0.39146873, -0.85469332,\n",
       "        -1.23185195,  0.5996863 , -0.0683626 , -0.8069975 , -0.8815623 ,\n",
       "         0.34083819,  0.53918311, -0.68562676, -1.17267772, -1.29234528,\n",
       "         0.51799915,  0.37410093, -0.34052195, -0.42328055,  0.17277879,\n",
       "        -0.0783466 , -0.85525807,  0.9668452 , -2.48398162, -0.09299062,\n",
       "         0.01214232,  0.87306382, -0.5921046 ,  0.07120175,  1.22526582,\n",
       "        -0.1160379 ,  0.40094054, -0.78434826, -0.00360431, -0.19546001,\n",
       "        -0.52708616, -0.34765332, -0.47025834,  0.63568799,  1.08615972,\n",
       "        -0.05623456, -1.76659465,  1.13834945,  0.88355824, -1.82543267,\n",
       "        -0.1868544 ,  1.97171736, -0.38199591,  2.75423903, -0.49825043,\n",
       "         0.34384107,  0.55019208,  0.19409448, -0.38206194, -1.1357335 ,\n",
       "         0.12372421, -0.92736347, -0.94475065,  0.53649744,  0.83661676,\n",
       "         0.40157631,  0.98253214, -1.22217226,  0.03466526, -1.13012736,\n",
       "        -1.44042532, -0.06026238, -0.68072396,  0.51820392, -1.25407498,\n",
       "         0.0049147 , -1.14473419, -0.80975087,  1.19970169,  1.31501297,\n",
       "         0.31549699,  0.42288618, -1.00418187, -1.14733865,  1.54820145,\n",
       "         0.31450811,  0.28859764, -0.29987455, -0.57337959, -0.51332567,\n",
       "        -0.92257673,  1.23530291,  0.22822998,  0.48963051, -0.40950521,\n",
       "        -2.40313984, -1.12480437,  1.66191804,  0.37242529,  0.2533767 ,\n",
       "         0.33781094, -1.51051357, -1.07946509, -0.22554475,  0.17045744,\n",
       "        -0.49304037,  1.58034026, -0.2238158 , -0.12893181,  1.52157266,\n",
       "        -1.74977917,  0.85852803, -0.7249593 , -1.92489172,  1.05253331,\n",
       "         0.95384642, -0.04440928, -0.65741005,  0.60424577,  1.26735976,\n",
       "        -0.19465178,  0.60503631,  0.4346034 , -0.78169878, -0.91250509,\n",
       "        -0.23560712,  1.31473032, -0.60093047, -3.02505217, -0.10966447,\n",
       "        -1.22180646,  0.87021837, -1.65476772, -2.1836199 , -0.00542452,\n",
       "         0.25410797, -1.70759266, -1.76550313,  0.88160077, -1.10759911,\n",
       "        -0.26355644,  0.28514431,  0.14332219, -0.43460499,  1.06803082,\n",
       "        -1.26933949,  0.02218463, -0.93801074, -0.50948663, -1.82477783,\n",
       "        -0.44960056, -1.20363946,  0.4669353 , -0.00798518,  1.32343446,\n",
       "        -0.28682032, -1.17348517, -0.1083075 , -0.34740339,  0.03203316,\n",
       "         0.41997775,  0.08512043,  0.71268162,  1.31791289,  0.2562309 ,\n",
       "         1.1856629 , -0.15219134, -1.04664138,  1.50662323,  1.06785618,\n",
       "         1.88716619,  1.2873838 , -0.48644665,  1.79475285,  0.09968171,\n",
       "         0.55793198,  1.25657303, -0.17412957, -1.77722398, -0.28292079,\n",
       "        -0.44410347, -0.21763894,  1.65358115,  0.10606293, -1.4049958 ,\n",
       "        -0.47118471,  0.32149372, -0.73540486,  0.03984068,  1.3971112 ,\n",
       "         0.16147367,  0.75281506, -1.11713854, -1.02127833,  0.54378893,\n",
       "        -0.54432233,  0.41349216, -0.5693048 ,  0.34351058, -0.19992478]),\n",
       " array([  1.43783407e-01,   4.00530570e-01,  -8.38883890e-02,\n",
       "         -5.54652595e-01,   4.54448458e-01,  -1.23032379e+00,\n",
       "          1.30828775e+00,  -2.82245463e+00,   4.55980023e-01,\n",
       "          1.09529326e+00,  -1.24003865e-01,  -5.04517159e-01,\n",
       "         -2.23139843e-01,   1.01179403e+00,   1.10324412e+00,\n",
       "         -3.66447303e-01,  -4.96791809e-01,  -1.95182993e+00,\n",
       "          2.50005390e+00,  -3.26530224e-01,  -4.59992899e-01,\n",
       "          2.59973157e-01,   5.87376581e-01,   6.94692816e-02,\n",
       "         -1.27426126e+00,   4.91969164e-01,   2.16458676e+00,\n",
       "          9.04393450e-01,   7.28817452e-01,  -1.36422057e+00,\n",
       "          4.13868873e-01,   2.32892007e-01,   6.35257215e-01,\n",
       "          7.53533064e-04,   3.18127355e-02,  -2.85159000e-01,\n",
       "         -4.86595299e-01,   1.49853394e+00,   9.32717699e-01,\n",
       "          6.12614096e-01,   2.53700185e-02,  -1.60138941e+00,\n",
       "          8.15161268e-01,  -1.31016722e+00,  -1.49942377e-01,\n",
       "         -7.77252527e-01,   2.42672821e-01,  -2.91749441e-01,\n",
       "          1.13820738e+00,   7.90929128e-01,   7.45533271e-01,\n",
       "          2.35104332e+00,   1.42747186e+00,  -2.85393814e-01,\n",
       "          1.25391120e+00,   1.20432907e-01,  -3.24697912e-01,\n",
       "         -1.34448331e+00,   1.63537405e-01,   3.27844275e-01,\n",
       "          8.47867102e-01,   4.35875755e-02,   1.52356109e+00,\n",
       "         -7.70849295e-01,   1.50339547e+00,   1.07916496e+00,\n",
       "          3.58046347e-01,   8.29287561e-01,   3.29842549e-01,\n",
       "          2.39997371e+00,   5.16230720e-01,   1.01138244e-01,\n",
       "          8.73792770e-02,   2.55664871e+00,  -3.80181643e-01,\n",
       "          2.41573805e-01,  -1.80283682e+00,   3.12383405e-01,\n",
       "          1.43264380e-01,  -2.46121053e+00,   1.20044485e-01,\n",
       "         -2.70022446e+00,   8.30117794e-01,   7.02575258e-02,\n",
       "         -1.25454776e+00,   1.27011510e+00,   4.47032335e-01,\n",
       "         -2.97486764e-01,   7.09787974e-02,  -1.20537309e+00,\n",
       "          1.17985423e+00,  -4.83953178e-02,  -3.61543505e-01,\n",
       "          4.32567267e-01,   2.01731165e-01,  -1.75627063e+00,\n",
       "          3.06342576e-01,  -2.17701534e-01,   8.02224581e-01,\n",
       "         -5.72730576e-01,   2.46523496e-01,  -5.55914379e-01,\n",
       "          1.46739886e+00,  -1.76936895e-01,   5.21145002e-01,\n",
       "         -9.16907615e-02,   1.03207502e+00,   2.04867099e-01,\n",
       "          1.62668271e-01,  -1.24030973e+00,   5.57486871e-01,\n",
       "          3.54340642e-02,  -1.21808747e-01,  -5.13787394e-03,\n",
       "          3.98330713e-01,   1.40214779e+00,   2.59935820e-01,\n",
       "          1.77068653e+00,   5.49338215e-01,   1.59203110e+00,\n",
       "         -1.28981266e+00,  -3.99445729e-02,   1.19695821e+00,\n",
       "          3.56904707e-01,   3.40042703e-01,  -9.71753503e-03,\n",
       "         -7.82903544e-01,  -1.69261648e+00,  -3.42622940e-01,\n",
       "         -5.59650937e-01,  -2.34631302e-01,  -5.34195436e-02,\n",
       "          2.00330671e+00,   8.28418589e-01,   1.18017482e+00,\n",
       "         -6.02280641e-02,  -4.03235919e-01,  -6.87464648e-01,\n",
       "         -1.34037538e-01,   1.27362261e+00,   3.06322127e-01,\n",
       "          5.09937857e-01,   1.10369054e+00,  -1.09363061e+00,\n",
       "          2.37918103e-01,  -5.02359678e-01,  -9.21674187e-01,\n",
       "          1.63264976e+00,  -1.87904877e+00,  -1.59024142e+00,\n",
       "          2.65465979e+00,  -1.19261449e+00,   1.02654987e+00,\n",
       "         -9.08861385e-01,  -7.09188225e-01,   2.48146668e+00,\n",
       "         -1.28991334e+00,   6.53681871e-01,   8.90122303e-01,\n",
       "         -1.14242499e+00,  -1.30478500e+00,  -1.14634078e+00,\n",
       "          1.15912235e+00,  -8.53479607e-01,  -6.02936371e-02,\n",
       "          6.12632208e-01,  -1.27247996e-01,  -1.65997502e-01,\n",
       "          5.83018660e-01,   1.43622979e+00,   3.39890095e-01,\n",
       "         -1.10360895e+00,  -3.35297117e-01,   9.25029740e-01,\n",
       "         -1.81240403e-01,  -3.49863416e-02,   4.83479289e-02,\n",
       "         -8.40241954e-01,  -3.86696248e-01,  -1.91258050e-01,\n",
       "          2.16370385e+00,   1.48987200e+00,  -5.22885783e-01,\n",
       "         -5.70863227e-01,   1.50227655e+00,   1.29097966e+00,\n",
       "         -1.21485734e+00,   1.63820300e-01,  -5.09514721e-01,\n",
       "          5.36485835e-01,   3.97895422e-01,   3.90714637e-02,\n",
       "         -1.04203231e+00,   1.26000922e+00,   1.02119901e+00,\n",
       "          7.24207099e-02,   8.71456243e-04,  -4.52283733e-01,\n",
       "          3.75510791e-01,   6.07245125e-01]))"
      ]
     },
     "execution_count": 15,
     "metadata": {},
     "output_type": "execute_result"
    }
   ],
   "source": [
    "n=200\n",
    "x = np.random.randn(n)\n",
    "y = np.random.randn(n)\n",
    "x,y"
   ]
  },
  {
   "cell_type": "code",
   "execution_count": 18,
   "metadata": {
    "collapsed": false
   },
   "outputs": [
    {
     "data": {
      "image/png": "[encoded data removed]",
      "text/plain": [
       "<matplotlib.figure.Figure at 0x77e2cf8>"
      ]
     },
     "metadata": {},
     "output_type": "display_data"
    }
   ],
   "source": [
    "plt.scatter(x,y) \n",
    "plt.show()"
   ]
  },
  {
   "cell_type": "code",
   "execution_count": 19,
   "metadata": {
    "collapsed": true
   },
   "outputs": [],
   "source": [
    "def getCos(x1, y1, x2, y2):\n",
    "    return (x1*x2+y1*y2)/(sqrt(x1**2+y1**2)*sqrt(x2**2+y2**2))"
   ]
  },
  {
   "cell_type": "code",
   "execution_count": 20,
   "metadata": {
    "collapsed": false
   },
   "outputs": [
    {
     "data": {
      "text/plain": [
       "array([128,  28, 132,  18, 150,  73,  51,  53,  79,  81,   7,  95, 128], dtype=int64)"
      ]
     },
     "execution_count": 20,
     "metadata": {},
     "output_type": "execute_result"
    }
   ],
   "source": [
    "index = np.arange(len(x))\n",
    "ind0 = np.argmin(x)\n",
    "convex = np.array([ind0])\n",
    "cosArray = [(getCos(0, 1,x[i]-x[ind0], y[i]-y[ind0]),i) for i in index if i != ind0 ]\n",
    "ind1 = max(cosArray)[1]\n",
    "convex = np.append(convex, ind1)\n",
    "index=index[index!=ind1]\n",
    "indn = ind1\n",
    "prev = ind1\n",
    "prev2 = ind0\n",
    "while  indn!=ind0:\n",
    "    cosArray = [(getCos(x[prev2]-x[prev], y[prev2]-y[prev], x[i]-x[prev], y[i]-y[prev]),i) for i in index]\n",
    "    indn = min(cosArray)[1]\n",
    "    convex = np.append(convex, indn)\n",
    "    index = index[index!=indn]\n",
    "    prev2 = prev\n",
    "    prev = indn\n",
    "convex"
   ]
  },
  {
   "cell_type": "code",
   "execution_count": 21,
   "metadata": {
    "collapsed": false
   },
   "outputs": [
    {
     "name": "stdout",
     "output_type": "stream",
     "text": [
      "[-3.02505217 -2.48398162 -1.65476772 -1.17267772 -0.44960056  0.51820392\n",
      "  1.97171736  2.75423903  1.31501297  0.42288618 -0.62211949 -2.40313984\n",
      " -3.02505217]\n",
      "[-0.34262294  0.72881745  2.00330671  2.5000539   2.65465979  2.55664871\n",
      "  2.35104332 -0.28539381 -2.46121053 -2.70022446 -2.82245463 -1.75627063\n",
      " -0.34262294]\n"
     ]
    }
   ],
   "source": [
    "xNew = x[convex]\n",
    "yNew = y[convex]\n",
    "print(xNew)\n",
    "print(yNew)\n"
   ]
  },
  {
   "cell_type": "code",
   "execution_count": 115,
   "metadata": {
    "collapsed": false
   },
   "outputs": [
    {
     "data": {
      "image/png": "[encoded data removed]",
      "text/plain": [
       "<matplotlib.figure.Figure at 0x794af98>"
      ]
     },
     "metadata": {},
     "output_type": "display_data"
    }
   ],
   "source": [
    "xConv = x[convex]\n",
    "yConv = y[convex]\n",
    "plt.plot(xConv,yConv)\n",
    "plt.scatter(x,y) \n",
    "plt.show()"
   ]
  },
  {
   "cell_type": "code",
   "execution_count": 4,
   "metadata": {
    "collapsed": false
   },
   "outputs": [
    {
     "data": {
      "text/plain": [
       "array([1, 2, 3, 6])"
      ]
     },
     "execution_count": 4,
     "metadata": {},
     "output_type": "execute_result"
    }
   ],
   "source": [
    "import numpy as np\n",
    "x=np.array([1,2,3])\n",
    "x=np.append(x,6)\n",
    "x"
   ]
  },
  {
   "cell_type": "code",
   "execution_count": 5,
   "metadata": {
    "collapsed": true
   },
   "outputs": [],
   "source": [
    "def foo(x,y):\n",
    "    return x+y"
   ]
  },
  {
   "cell_type": "code",
   "execution_count": 14,
   "metadata": {
    "collapsed": false
   },
   "outputs": [
    {
     "name": "stdout",
     "output_type": "stream",
     "text": [
      "[4, 5, 9]\n",
      "9\n",
      "[0 1 2 3 4 5 6 7 8 9]\n"
     ]
    }
   ],
   "source": [
    "b =3\n",
    "a=[foo(b,i) for i in x if i!=3]\n",
    "print(a)\n",
    "print(max(a))\n",
    "print(np.arange(10))"
   ]
  },
  {
   "cell_type": "code",
   "execution_count": null,
   "metadata": {
    "collapsed": true
   },
   "outputs": [],
   "source": []
  }
 ],
 "metadata": {
  "kernelspec": {
   "display_name": "Python 3",
   "language": "python",
   "name": "python3"
  },
  "language_info": {
   "codemirror_mode": {
    "name": "ipython",
    "version": 3
   },
   "file_extension": ".py",
   "mimetype": "text/x-python",
   "name": "python",
   "nbconvert_exporter": "python",
   "pygments_lexer": "ipython3",
   "version": "3.5.1"
  }
 },
 "nbformat": 4,
 "nbformat_minor": 0
}
